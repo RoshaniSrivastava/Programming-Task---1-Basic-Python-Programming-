{
  "cells": [
    {
      "cell_type": "markdown",
      "id": "2098ba31",
      "metadata": {
        "id": "2098ba31"
      },
      "source": [
        "## Programming Task - 2"
      ]
    },
    {
      "cell_type": "markdown",
      "id": "b353def4",
      "metadata": {
        "id": "b353def4"
      },
      "source": [
        "#### 1.List Comprehension"
      ]
    },
    {
      "cell_type": "code",
      "execution_count": null,
      "id": "cd5ee481",
      "metadata": {
        "id": "cd5ee481",
        "outputId": "22adf7ff-52d3-4f91-d380-7aefd7a02be6"
      },
      "outputs": [
        {
          "name": "stdout",
          "output_type": "stream",
          "text": [
            "1\n",
            "1\n",
            "2\n",
            "3\n",
            "[[0, 0, 0], [0, 0, 1], [0, 0, 2], [0, 1, 0], [0, 1, 1], [1, 0, 0], [1, 0, 1], [1, 1, 0], [1, 1, 2]]\n"
          ]
        }
      ],
      "source": [
        "if __name__ == '__main__':\n",
        "    x = int(input())\n",
        "    y = int(input())\n",
        "    z = int(input())\n",
        "    n = int(input())\n",
        "ans = [[i, j, k] for i in range(x + 1) for j in range(y + 1) for k in range(z + 1) if i + j + k != n]\n",
        "print(ans)\n"
      ]
    },
    {
      "cell_type": "markdown",
      "id": "5bb1b4fd",
      "metadata": {
        "id": "5bb1b4fd"
      },
      "source": [
        "#### 2.Find the runner-up Score"
      ]
    },
    {
      "cell_type": "code",
      "execution_count": 1,
      "id": "c5bd1655",
      "metadata": {
        "colab": {
          "base_uri": "https://localhost:8080/"
        },
        "id": "c5bd1655",
        "outputId": "43f91a55-f685-40f2-a0ac-fcb23b1cb257"
      },
      "outputs": [
        {
          "output_type": "stream",
          "name": "stdout",
          "text": [
            "5\n",
            "2 3 6 6 5\n",
            "5\n"
          ]
        }
      ],
      "source": [
        "if __name__ == '__main__':\n",
        "    n = int(input())\n",
        "    arr = map(int, input().split())\n",
        "    arr2 = list(set(arr))\n",
        "    arr2.sort()\n",
        "    print(arr2[-2])     "
      ]
    },
    {
      "cell_type": "markdown",
      "source": [
        "## Nested List"
      ],
      "metadata": {
        "id": "FmJvdEZOQxLo"
      },
      "id": "FmJvdEZOQxLo"
    },
    {
      "cell_type": "code",
      "source": [
        "if __name__ == '__main__':\n",
        "    alist = []\n",
        "    for i in range(int(input())):\n",
        "        name = input()\n",
        "        score = float(input())\n",
        "        alist.append([name, score])\n",
        "second_highest = sorted(set([score for name, score in alist]))[1]\n",
        "print('\\n'.join(sorted([name for name, score in alist if score == second_highest])))"
      ],
      "metadata": {
        "colab": {
          "base_uri": "https://localhost:8080/"
        },
        "id": "OyXpmtbXQwXw",
        "outputId": "5a932aaa-ad92-46ea-b824-38af562f45a0"
      },
      "id": "OyXpmtbXQwXw",
      "execution_count": 6,
      "outputs": [
        {
          "output_type": "stream",
          "name": "stdout",
          "text": [
            "5\n",
            "Harry\n",
            "37.21\n",
            "Berry\n",
            "37.21\n",
            "Tina\n",
            "37.2\n",
            "Akriti\n",
            "41\n",
            "Harsh\n",
            "39\n",
            "Berry\n",
            "Harry\n"
          ]
        }
      ]
    },
    {
      "cell_type": "markdown",
      "id": "a7bd7cef",
      "metadata": {
        "id": "a7bd7cef"
      },
      "source": [
        "#### 3.Finding the percentage\n"
      ]
    },
    {
      "cell_type": "code",
      "execution_count": null,
      "id": "265f999a",
      "metadata": {
        "id": "265f999a"
      },
      "outputs": [],
      "source": [
        "if __name__ == '__main__':\n",
        "    n = int(input())\n",
        "    student_marks = {}\n",
        "    for _ in range(n):\n",
        "        name, *line = input().split()\n",
        "        scores = list(map(float, line))\n",
        "        student_marks[name] = scores\n",
        "    query_name = input()\n",
        "    na = student_marks[query_name]\n",
        "    avg = sum(na)/len(na)\n",
        "    print(\"%.2f\" % avg)"
      ]
    },
    {
      "cell_type": "markdown",
      "source": [
        "####4.Tuples"
      ],
      "metadata": {
        "id": "XzQfC7EzxXI_"
      },
      "id": "XzQfC7EzxXI_"
    },
    {
      "cell_type": "code",
      "source": [
        "if __name__ == '__main__':\n",
        "    n = int(input())\n",
        "    integer_list = map(int, input().split())\n",
        "    print(hash(tuple(integer_list)))\n"
      ],
      "metadata": {
        "colab": {
          "base_uri": "https://localhost:8080/"
        },
        "id": "-pJg3ZNQxWSU",
        "outputId": "0da7f46b-02c3-445e-90e2-a0646f6ecc61"
      },
      "id": "-pJg3ZNQxWSU",
      "execution_count": 2,
      "outputs": [
        {
          "output_type": "stream",
          "name": "stdout",
          "text": [
            "2\n",
            "1 2\n",
            "-3550055125485641917\n"
          ]
        }
      ]
    },
    {
      "cell_type": "markdown",
      "source": [
        "5.Introduction to sets"
      ],
      "metadata": {
        "id": "f6ssJEwHxvcW"
      },
      "id": "f6ssJEwHxvcW"
    },
    {
      "cell_type": "code",
      "source": [
        "def average(array):\n",
        "    # Introduction to Sets in Python - Hacker Rank Solution START\n",
        "    sum_array = sum(set(array))\n",
        "    len_array = len(set(array))\n",
        "    output = sum_array/len_array\n",
        "    return output;\n",
        "    # Introduction to Sets in Python - Hacker Rank Solution END\n",
        "\n",
        "if __name__ == '__main__':\n",
        "    n = int(input())\n",
        "    arr = list(map(int, input().split()))\n",
        "    result = average(arr)\n",
        "    print(result)"
      ],
      "metadata": {
        "colab": {
          "base_uri": "https://localhost:8080/"
        },
        "id": "wIC2zqAFxm_h",
        "outputId": "4777a16e-f5ba-4c66-9d34-0422c3be29bd"
      },
      "id": "wIC2zqAFxm_h",
      "execution_count": 3,
      "outputs": [
        {
          "output_type": "stream",
          "name": "stdout",
          "text": [
            "10\n",
            "161 182 161 154 176 170 167 171 170 174\n",
            "169.375\n"
          ]
        }
      ]
    },
    {
      "cell_type": "markdown",
      "source": [
        "6.No Idea\n"
      ],
      "metadata": {
        "id": "tjg6wA9yyFtF"
      },
      "id": "tjg6wA9yyFtF"
    },
    {
      "cell_type": "code",
      "source": [
        "# Enter your code here. Read input from STDIN. Print output to STDOUT\n",
        "if __name__ == \"__main__\":\n",
        "    happiness = 0\n",
        "    n, m = map(int, input().strip().split(' '))\n",
        "    arr = list(map(int, input().strip().split(' ')))\n",
        "    \n",
        "    good = set(map(int, input().strip().split(' ')))\n",
        "    bad = set(map(int, input().strip().split(' ')))\n",
        "    \n",
        "    for i in arr:\n",
        "        if i in good:\n",
        "            happiness += 1\n",
        "        elif i in bad:\n",
        "            happiness -= 1\n",
        "    print(happiness)\n"
      ],
      "metadata": {
        "colab": {
          "base_uri": "https://localhost:8080/"
        },
        "id": "I7gUb8H_x140",
        "outputId": "474c67f7-8d4e-45e3-bdee-2913117e7ff8"
      },
      "id": "I7gUb8H_x140",
      "execution_count": 4,
      "outputs": [
        {
          "output_type": "stream",
          "name": "stdout",
          "text": [
            "3 2\n",
            "1 5 3 \n",
            "3 1 \n",
            "5 7\n",
            "1\n"
          ]
        }
      ]
    },
    {
      "cell_type": "markdown",
      "source": [
        "7.Set.add()"
      ],
      "metadata": {
        "id": "K_6VR2ntyxwU"
      },
      "id": "K_6VR2ntyxwU"
    },
    {
      "cell_type": "code",
      "source": [
        "# Enter your code here. Read input from STDIN. Print output to STDOUT\n",
        "N = int(input())\n",
        "\n",
        "countries = set()\n",
        "\n",
        "for i in range(N):\n",
        "    countries.add(input())\n",
        "\n",
        "print(len(countries))\n"
      ],
      "metadata": {
        "colab": {
          "base_uri": "https://localhost:8080/"
        },
        "id": "uO38tMO4ye0A",
        "outputId": "77d8680f-ded9-4eb5-c4ae-041d79789b1d"
      },
      "id": "uO38tMO4ye0A",
      "execution_count": 5,
      "outputs": [
        {
          "output_type": "stream",
          "name": "stdout",
          "text": [
            "7\n",
            "UK\n",
            "China\n",
            "USA\n",
            "France\n",
            "New Zealand\n",
            "UK \n",
            "France\n",
            "6\n"
          ]
        }
      ]
    },
    {
      "cell_type": "markdown",
      "source": [
        "8.Set .discard(), .remove() & .pop()"
      ],
      "metadata": {
        "id": "Rx0QtPZ2zUix"
      },
      "id": "Rx0QtPZ2zUix"
    },
    {
      "cell_type": "code",
      "source": [
        "import pdb\n",
        "m = int(input())\n",
        "lst=[int(j) for j in input().strip().split()]\n",
        "lst.reverse()\n",
        "st=set(lst)\n",
        "n= int(input())\n",
        "for i in range(n):\n",
        "    command = input().strip().split()\n",
        "    #pdb.set_trace()\n",
        "    if len(command) ==1 :\n",
        "        methodToCall = getattr(st, command[0])\n",
        "        methodToCall()\n",
        "        #print(st)   \n",
        "    else:\n",
        "        commd, *args= [command[0], int(command[1])]\n",
        "        getattr(st, commd)(*args)\n",
        "        #print(st)   \n",
        "print(sum(st))\n"
      ],
      "metadata": {
        "colab": {
          "base_uri": "https://localhost:8080/"
        },
        "id": "lwBkX8jYy03t",
        "outputId": "e9e86409-cf08-4939-c192-ad3dba47a274"
      },
      "id": "lwBkX8jYy03t",
      "execution_count": 6,
      "outputs": [
        {
          "output_type": "stream",
          "name": "stdout",
          "text": [
            "9\n",
            "1 2 3 4 5 6 7 8 9\n",
            "10\n",
            "pop\n",
            "remove 9\n",
            "discard 9\n",
            "discard 8\n",
            "remove 7\n",
            "pop\n",
            "discard 6\n",
            "remove 5\n",
            "pop\n",
            "discard 5\n",
            "4\n"
          ]
        }
      ]
    },
    {
      "cell_type": "markdown",
      "source": [
        "9.Union Operation"
      ],
      "metadata": {
        "id": "DPNhUfZ30Ac1"
      },
      "id": "DPNhUfZ30Ac1"
    },
    {
      "cell_type": "code",
      "source": [
        "N1 = int(input())\n",
        "storage1 = set(input().split());\n",
        "\n",
        "N2 = int(input())\n",
        "storage2 = set(input().split());\n",
        "\n",
        "storage3 = storage1.union(storage2)\n",
        "\n",
        "print(len(storage3))"
      ],
      "metadata": {
        "colab": {
          "base_uri": "https://localhost:8080/"
        },
        "id": "6K-o_0Y8zjBV",
        "outputId": "f54c6fa4-fae2-4dc2-c865-a775c12178e3"
      },
      "id": "6K-o_0Y8zjBV",
      "execution_count": 7,
      "outputs": [
        {
          "output_type": "stream",
          "name": "stdout",
          "text": [
            "9\n",
            "1 2 3 4 5 6 7 8 9\n",
            "9\n",
            "10 1 2 3 11 21 55 6 8\n",
            "13\n"
          ]
        }
      ]
    },
    {
      "cell_type": "markdown",
      "source": [
        "10.Intersection"
      ],
      "metadata": {
        "id": "1oIDty_A1Enw"
      },
      "id": "1oIDty_A1Enw"
    },
    {
      "cell_type": "code",
      "source": [
        "N1 = int(input())\n",
        "storage1 = set(input().split())\n",
        "\n",
        "N2 = int(input())\n",
        "storage2 = set(input().split())\n",
        "\n",
        "storage3 = storage2.intersection(storage1)\n",
        "\n",
        "print(len(storage3))\n",
        "\n"
      ],
      "metadata": {
        "colab": {
          "base_uri": "https://localhost:8080/"
        },
        "id": "27RxvbP60ayD",
        "outputId": "9cec58bb-3fef-41f3-d00a-254ede680952"
      },
      "id": "27RxvbP60ayD",
      "execution_count": 9,
      "outputs": [
        {
          "output_type": "stream",
          "name": "stdout",
          "text": [
            "9\n",
            "1 2 3 4 5 6 7 8 9\n",
            "9\n",
            "10 1 2 3 11 21 55 6 8\n",
            "5\n"
          ]
        }
      ]
    },
    {
      "cell_type": "markdown",
      "source": [
        "11.Difference \n"
      ],
      "metadata": {
        "id": "G3w5yj-Q1rxV"
      },
      "id": "G3w5yj-Q1rxV"
    },
    {
      "cell_type": "code",
      "source": [
        "# Enter your code here. Read input from STDIN. Print output to STDOUT\n",
        "N1 = int(input())\n",
        "storage1 = set(input().split())\n",
        "\n",
        "N2 = int(input())\n",
        "storage2 = set(input().split())\n",
        "\n",
        "storage3 = storage1.difference(storage2)\n",
        "\n",
        "print(len(storage3))"
      ],
      "metadata": {
        "colab": {
          "base_uri": "https://localhost:8080/"
        },
        "id": "GWGrvP9o1S1r",
        "outputId": "35a8106b-f088-4ba5-e726-ab8a639e91e0"
      },
      "id": "GWGrvP9o1S1r",
      "execution_count": 11,
      "outputs": [
        {
          "output_type": "stream",
          "name": "stdout",
          "text": [
            "9\n",
            "1 2 3 4 5 6 7 8 9\n",
            "9\n",
            "10 1 2 3 11 21 55 6 8\n",
            "4\n"
          ]
        }
      ]
    },
    {
      "cell_type": "markdown",
      "source": [
        "11.Set .symmetric_difference() Operation"
      ],
      "metadata": {
        "id": "iQ3eE91-4TBv"
      },
      "id": "iQ3eE91-4TBv"
    },
    {
      "cell_type": "code",
      "source": [
        "N1 = int(input())\n",
        "storage1 = set(input().split())\n",
        "\n",
        "N2 = int(input())\n",
        "storage2 = set(input().split())\n",
        "\n",
        "storage3 = storage1.symmetric_difference(storage2)\n",
        "\n",
        "print(len(storage3))"
      ],
      "metadata": {
        "colab": {
          "base_uri": "https://localhost:8080/"
        },
        "id": "Q7rnv3z94ZUE",
        "outputId": "106530b7-4729-4e59-bf56-c2a8b163e39a"
      },
      "id": "Q7rnv3z94ZUE",
      "execution_count": 14,
      "outputs": [
        {
          "output_type": "stream",
          "name": "stdout",
          "text": [
            "9\n",
            "1 2 3 4 5 6 7 8 9\n",
            "9\n",
            "10 1 2 3 11 21 55 6 8\n",
            "8\n"
          ]
        }
      ]
    },
    {
      "cell_type": "markdown",
      "source": [
        "12.Set Mutations"
      ],
      "metadata": {
        "id": "CdNy8ihU5TyV"
      },
      "id": "CdNy8ihU5TyV"
    },
    {
      "cell_type": "code",
      "source": [
        "len_set = int(input())\n",
        "\n",
        "storage = set(map(int, input().split()))\n",
        "\n",
        "op_len = int(input())\n",
        "\n",
        "for i in range(op_len):\n",
        "    operation = input().split()\n",
        "    if operation[0] == 'intersection_update':\n",
        "        temp_storage = set(map(int, input().split()))\n",
        "        storage.intersection_update(temp_storage)\n",
        "    elif operation[0] == 'update':\n",
        "        temp_storage = set(map(int, input().split()))\n",
        "        storage.update(temp_storage)\n",
        "    elif operation[0] == 'symmetric_difference_update':\n",
        "        temp_storage = set(map(int, input().split()))\n",
        "        storage.symmetric_difference_update(temp_storage)\n",
        "    elif operation[0] == 'difference_update':\n",
        "        temp_storage = set(map(int, input().split()))\n",
        "        storage.difference_update(temp_storage)\n",
        "    else :\n",
        "        assert False\n",
        "\n",
        "print(sum(storage))"
      ],
      "metadata": {
        "colab": {
          "base_uri": "https://localhost:8080/"
        },
        "id": "fMupQs975Ck0",
        "outputId": "6d8d6ee6-b49c-45d8-d60e-0a74f69f74e1"
      },
      "id": "fMupQs975Ck0",
      "execution_count": 15,
      "outputs": [
        {
          "output_type": "stream",
          "name": "stdout",
          "text": [
            "16\n",
            " 1 2 3 4 5 6 7 8 9 10 11 12 13 14 24 52\n",
            "4\n",
            " intersection_update 10\n",
            " 2 3 5 6 8 9 1 4 7 11\n",
            "update 2\n",
            "55 66\n",
            " symmetric_difference_update 5\n",
            " 22 7 35 62 58\n",
            " difference_update 7\n",
            " 11 22 35 55 58 62 66\n",
            "38\n"
          ]
        }
      ]
    },
    {
      "cell_type": "markdown",
      "source": [
        "13. Captain's room\n"
      ],
      "metadata": {
        "id": "hWGNkzmZ7KMn"
      },
      "id": "hWGNkzmZ7KMn"
    },
    {
      "cell_type": "code",
      "source": [
        "N = int(input())\n",
        "\n",
        "storage = map(int, input().split())\n",
        "storage = sorted(storage)\n",
        "\n",
        "for i in range(len(storage)):\n",
        "    if(i != len(storage)-1):\n",
        "        if(storage[i]!=storage[i-1] and storage[i]!=storage[i+1]):\n",
        "            print(storage[i])\n",
        "            break;\n",
        "    else:\n",
        "        print(storage[i])"
      ],
      "metadata": {
        "colab": {
          "base_uri": "https://localhost:8080/"
        },
        "id": "VuS-zVY15lm5",
        "outputId": "05920d04-a63c-48ec-f95f-65de8b605573"
      },
      "id": "VuS-zVY15lm5",
      "execution_count": 16,
      "outputs": [
        {
          "output_type": "stream",
          "name": "stdout",
          "text": [
            "5\n",
            "1 2 3 6 5 4 4 2 5 3 6 1 6 5 3 2 4 1 2 5 1 4 3 6 8 4 3 1 5 6 2 \n",
            "8\n"
          ]
        }
      ]
    },
    {
      "cell_type": "code",
      "source": [],
      "metadata": {
        "id": "hv3jHI1A7Nk7"
      },
      "id": "hv3jHI1A7Nk7",
      "execution_count": null,
      "outputs": []
    }
  ],
  "metadata": {
    "kernelspec": {
      "display_name": "Python 3 (ipykernel)",
      "language": "python",
      "name": "python3"
    },
    "language_info": {
      "codemirror_mode": {
        "name": "ipython",
        "version": 3
      },
      "file_extension": ".py",
      "mimetype": "text/x-python",
      "name": "python",
      "nbconvert_exporter": "python",
      "pygments_lexer": "ipython3",
      "version": "3.9.12"
    },
    "colab": {
      "provenance": []
    }
  },
  "nbformat": 4,
  "nbformat_minor": 5
}