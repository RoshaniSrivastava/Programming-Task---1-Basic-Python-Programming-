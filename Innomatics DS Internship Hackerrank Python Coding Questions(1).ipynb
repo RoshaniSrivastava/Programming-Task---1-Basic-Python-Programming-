{
 "cells": [
  {
   "cell_type": "markdown",
   "id": "2098ba31",
   "metadata": {},
   "source": [
    "## Programming Task - 1 (Basic Python Programming)"
   ]
  },
  {
   "cell_type": "markdown",
   "id": "b353def4",
   "metadata": {},
   "source": [
    "- Ques.1:print(\"Hello, World!\")"
   ]
  },
  {
   "cell_type": "code",
   "execution_count": 1,
   "id": "bdcec621",
   "metadata": {},
   "outputs": [
    {
     "name": "stdout",
     "output_type": "stream",
     "text": [
      "Hello, World!\n"
     ]
    }
   ],
   "source": [
    "if __name__ == '__main__':\n",
    "    print(\"Hello, World!\")"
   ]
  },
  {
   "cell_type": "markdown",
   "id": "8331f6f6",
   "metadata": {},
   "source": [
    "- Ques.2:Python If-Else\n",
    "\n"
   ]
  },
  {
   "cell_type": "code",
   "execution_count": 2,
   "id": "d31db47f",
   "metadata": {},
   "outputs": [
    {
     "name": "stdout",
     "output_type": "stream",
     "text": [
      "3\n",
      "Weird\n"
     ]
    }
   ],
   "source": [
    "#!/bin/python3\n",
    "\n",
    "import math\n",
    "import os\n",
    "import random\n",
    "import re\n",
    "import sys\n",
    "\n",
    "\n",
    "\n",
    "if __name__ == '__main__':\n",
    "    n = int(input().strip())\n",
    "if n % 2 != 0:\n",
    "    print(\"Weird\")\n",
    "else:\n",
    "    if n >= 2 and n <= 5:\n",
    "        print(\"Not Weird\")\n",
    "    elif n >= 6 and n <= 20:\n",
    "        print(\"Weird\")\n",
    "    elif n > 20:\n",
    "        print(\"Not Weird\")\n"
   ]
  },
  {
   "cell_type": "markdown",
   "id": "3d254e45",
   "metadata": {},
   "source": [
    "- Ques.3:Arithmetic Operators\n",
    "\n"
   ]
  },
  {
   "cell_type": "code",
   "execution_count": 3,
   "id": "7c19d2ea",
   "metadata": {},
   "outputs": [
    {
     "name": "stdout",
     "output_type": "stream",
     "text": [
      "3\n",
      "5\n",
      "8\n",
      "-2\n",
      "15\n"
     ]
    }
   ],
   "source": [
    "if __name__ == '__main__':\n",
    "    a = int(input())\n",
    "    b = int(input())\n",
    "print(a+b)\n",
    "print(a-b)\n",
    "print(a*b)\n"
   ]
  },
  {
   "cell_type": "markdown",
   "id": "6b074076",
   "metadata": {},
   "source": [
    "- Ques.4:Python:Division"
   ]
  },
  {
   "cell_type": "code",
   "execution_count": 4,
   "id": "dd7c598e",
   "metadata": {},
   "outputs": [
    {
     "name": "stdout",
     "output_type": "stream",
     "text": [
      "3\n",
      "5\n",
      "0\n",
      "0.600000\n"
     ]
    }
   ],
   "source": [
    "if __name__ == '__main__':\n",
    "    a = int(input())\n",
    "    b = int(input())\n",
    "c=a//b\n",
    "d=a/b\n",
    "print(\"%d\\n%f\"%(c,d))\n"
   ]
  },
  {
   "cell_type": "markdown",
   "id": "f5269990",
   "metadata": {},
   "source": [
    "- Ques.5:Loops"
   ]
  },
  {
   "cell_type": "code",
   "execution_count": 5,
   "id": "600a4f92",
   "metadata": {},
   "outputs": [
    {
     "name": "stdout",
     "output_type": "stream",
     "text": [
      "5\n",
      "0\n",
      "1\n",
      "4\n",
      "9\n",
      "16\n"
     ]
    }
   ],
   "source": [
    "if __name__ == '__main__':\n",
    "    n = int(input())\n",
    "for i in range (0,n):\n",
    "    print(i**2)\n"
   ]
  },
  {
   "cell_type": "markdown",
   "id": "71865093",
   "metadata": {},
   "source": [
    "- Ques.6:Write a Function"
   ]
  },
  {
   "cell_type": "code",
   "execution_count": 6,
   "id": "d9667738",
   "metadata": {},
   "outputs": [
    {
     "name": "stdout",
     "output_type": "stream",
     "text": [
      "1990\n",
      "False\n"
     ]
    }
   ],
   "source": [
    "def is_leap(year):\n",
    "    leap = False\n",
    "    \n",
    "    # Write your logic here\n",
    "    if year % 400 == 0:\n",
    "        leap = True\n",
    "    elif year % 100 == 0:\n",
    "        leap = False\n",
    "    elif year % 4 == 0:\n",
    "        leap = True\n",
    "    \n",
    "    return leap\n",
    "    \n",
    "\n",
    "year = int(input())\n",
    "print(is_leap(year))"
   ]
  },
  {
   "cell_type": "markdown",
   "id": "2eb8c0b3",
   "metadata": {},
   "source": [
    "- Ques.7:Print Function"
   ]
  },
  {
   "cell_type": "code",
   "execution_count": 7,
   "id": "95102073",
   "metadata": {},
   "outputs": [
    {
     "name": "stdout",
     "output_type": "stream",
     "text": [
      "3\n",
      "123"
     ]
    }
   ],
   "source": [
    "if __name__ == '__main__':\n",
    "    n = int(input())\n",
    "    for i in range(1,n+1):\n",
    "        print(i,end=\"\")\n"
   ]
  },
  {
   "cell_type": "code",
   "execution_count": null,
   "id": "cd5ee481",
   "metadata": {},
   "outputs": [],
   "source": []
  }
 ],
 "metadata": {
  "kernelspec": {
   "display_name": "Python 3 (ipykernel)",
   "language": "python",
   "name": "python3"
  },
  "language_info": {
   "codemirror_mode": {
    "name": "ipython",
    "version": 3
   },
   "file_extension": ".py",
   "mimetype": "text/x-python",
   "name": "python",
   "nbconvert_exporter": "python",
   "pygments_lexer": "ipython3",
   "version": "3.9.12"
  }
 },
 "nbformat": 4,
 "nbformat_minor": 5
}
