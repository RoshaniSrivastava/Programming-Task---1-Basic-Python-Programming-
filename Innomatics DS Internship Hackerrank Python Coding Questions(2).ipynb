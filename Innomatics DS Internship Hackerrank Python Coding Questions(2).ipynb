{
 "cells": [
  {
   "cell_type": "markdown",
   "id": "2098ba31",
   "metadata": {},
   "source": [
    "## Programming Task - 1(For Advance Python Programmers)(LeetCode)"
   ]
  },
  {
   "cell_type": "markdown",
   "id": "b353def4",
   "metadata": {},
   "source": [
    "#### 1.Running Sum Of 1D array"
   ]
  },
  {
   "cell_type": "code",
   "execution_count": null,
   "id": "cd5ee481",
   "metadata": {},
   "outputs": [],
   "source": [
    "class Solution:\n",
    "    def runningSum(self, nums: List[int]) -> List[int]:\n",
    "        ans = [0] * len(nums)\n",
    "        ans[0] = nums[0]\n",
    "        for i in range(1, len(nums)):\n",
    "            ans[i] = ans[i-1] + nums[i]\n",
    "        return ans"
   ]
  },
  {
   "cell_type": "markdown",
   "id": "9269fe14",
   "metadata": {},
   "source": [
    "#### 2.Shuffle the array"
   ]
  },
  {
   "cell_type": "code",
   "execution_count": null,
   "id": "33e8ac43",
   "metadata": {},
   "outputs": [],
   "source": [
    "class Solution:\n",
    "    def shuffle(self, nums: List[int], n: int) -> List[int]:\n",
    "        l, r = 0, n\n",
    "        lst = []\n",
    "        while r < len(nums):\n",
    "            lst.append(nums[l])\n",
    "            lst.append(nums[r])\n",
    "            l += 1\n",
    "            r += 1\n",
    "\n",
    "        return lst"
   ]
  },
  {
   "cell_type": "markdown",
   "id": "d80079fe",
   "metadata": {},
   "source": [
    "#### 3.Kids With the Greatest Number of Candies"
   ]
  },
  {
   "cell_type": "code",
   "execution_count": null,
   "id": "908c90f9",
   "metadata": {},
   "outputs": [],
   "source": [
    "class Solution:\n",
    "    def kidsWithCandies(self, candies: List[int], extraCandies: int) -> List[bool]:\n",
    "        max_candy = -1\n",
    "        \n",
    "        for candy in candies:\n",
    "            if candy > max_candy:\n",
    "                max_candy = candy\n",
    "                \n",
    "        results = []\n",
    "        \n",
    "        for candy in candies:\n",
    "            if candy + extraCandies >= max_candy:\n",
    "                results.append(True)\n",
    "            else:\n",
    "                results.append(False)\n",
    "                \n",
    "        return results\n",
    "        "
   ]
  }
 ],
 "metadata": {
  "kernelspec": {
   "display_name": "Python 3 (ipykernel)",
   "language": "python",
   "name": "python3"
  },
  "language_info": {
   "codemirror_mode": {
    "name": "ipython",
    "version": 3
   },
   "file_extension": ".py",
   "mimetype": "text/x-python",
   "name": "python",
   "nbconvert_exporter": "python",
   "pygments_lexer": "ipython3",
   "version": "3.9.12"
  }
 },
 "nbformat": 4,
 "nbformat_minor": 5
}
